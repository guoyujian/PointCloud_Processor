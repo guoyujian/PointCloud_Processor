{
 "cells": [
  {
   "cell_type": "code",
   "execution_count": 1,
   "id": "initial_id",
   "metadata": {
    "collapsed": true,
    "ExecuteTime": {
     "end_time": "2023-11-20T07:09:48.271415Z",
     "start_time": "2023-11-20T07:09:48.247043Z"
    }
   },
   "outputs": [
    {
     "data": {
      "text/plain": "'aaaa.'"
     },
     "execution_count": 1,
     "metadata": {},
     "output_type": "execute_result"
    }
   ],
   "source": [
    "filename = 'aaaa.pcd'\n",
    "\n",
    "filename[0:-3]"
   ]
  },
  {
   "cell_type": "code",
   "execution_count": 3,
   "outputs": [
    {
     "data": {
      "text/plain": "1"
     },
     "execution_count": 3,
     "metadata": {},
     "output_type": "execute_result"
    }
   ],
   "source": [
    "p = [None]\n",
    "len(p)"
   ],
   "metadata": {
    "collapsed": false,
    "ExecuteTime": {
     "end_time": "2023-11-20T09:20:40.904881Z",
     "start_time": "2023-11-20T09:20:40.899527Z"
    }
   },
   "id": "89852e5eee312f9b"
  },
  {
   "cell_type": "code",
   "execution_count": 4,
   "outputs": [
    {
     "data": {
      "text/plain": "open3d.cpu.pybind.geometry.TriangleMesh"
     },
     "execution_count": 4,
     "metadata": {},
     "output_type": "execute_result"
    }
   ],
   "source": [
    "import open3d as o3d \n",
    "\n",
    "sphere = o3d.geometry.TriangleMesh.create_sphere(1)\n",
    "\n",
    "type(sphere)\n"
   ],
   "metadata": {
    "collapsed": false,
    "ExecuteTime": {
     "end_time": "2023-11-20T10:22:09.529989Z",
     "start_time": "2023-11-20T10:22:08.458164Z"
    }
   },
   "id": "2d2128b05ab18f0a"
  }
 ],
 "metadata": {
  "kernelspec": {
   "display_name": "Python 3",
   "language": "python",
   "name": "python3"
  },
  "language_info": {
   "codemirror_mode": {
    "name": "ipython",
    "version": 2
   },
   "file_extension": ".py",
   "mimetype": "text/x-python",
   "name": "python",
   "nbconvert_exporter": "python",
   "pygments_lexer": "ipython2",
   "version": "2.7.6"
  }
 },
 "nbformat": 4,
 "nbformat_minor": 5
}
